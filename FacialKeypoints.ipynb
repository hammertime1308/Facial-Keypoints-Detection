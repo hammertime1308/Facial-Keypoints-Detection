{
  "nbformat": 4,
  "nbformat_minor": 0,
  "metadata": {
    "colab": {
      "name": "FacialDataset.ipynb",
      "provenance": [],
      "collapsed_sections": []
    },
    "kernelspec": {
      "name": "python3",
      "display_name": "Python 3"
    },
    "accelerator": "GPU"
  },
  "cells": [
    {
      "cell_type": "code",
      "metadata": {
        "id": "T3MFJzAD6QY3",
        "colab_type": "code",
        "outputId": "342aa656-e33a-4e9c-9cc3-07b331ec0460",
        "colab": {
          "base_uri": "https://localhost:8080/",
          "height": 54
        }
      },
      "source": [
        "from google.colab import drive\n",
        "drive.mount('/content/drive')"
      ],
      "execution_count": 1,
      "outputs": [
        {
          "output_type": "stream",
          "text": [
            "Drive already mounted at /content/drive; to attempt to forcibly remount, call drive.mount(\"/content/drive\", force_remount=True).\n"
          ],
          "name": "stdout"
        }
      ]
    },
    {
      "cell_type": "code",
      "metadata": {
        "id": "Zv3N8jjAQ3EP",
        "colab_type": "code",
        "colab": {}
      },
      "source": [
        "import cv2\n",
        "import matplotlib.pyplot as plt\n",
        "import pandas as pd\n",
        "import numpy as np"
      ],
      "execution_count": 0,
      "outputs": []
    },
    {
      "cell_type": "code",
      "metadata": {
        "id": "n08dzyHPRn2y",
        "colab_type": "code",
        "outputId": "a10ff60d-bd1a-46c3-8567-d8c88cc16043",
        "colab": {
          "base_uri": "https://localhost:8080/",
          "height": 561
        }
      },
      "source": [
        "training = pd.read_csv(\"/content/drive/My Drive/training.csv\")\n",
        "training.isna().sum()"
      ],
      "execution_count": 3,
      "outputs": [
        {
          "output_type": "execute_result",
          "data": {
            "text/plain": [
              "left_eye_center_x              10\n",
              "left_eye_center_y              10\n",
              "right_eye_center_x             13\n",
              "right_eye_center_y             13\n",
              "left_eye_inner_corner_x      4778\n",
              "left_eye_inner_corner_y      4778\n",
              "left_eye_outer_corner_x      4782\n",
              "left_eye_outer_corner_y      4782\n",
              "right_eye_inner_corner_x     4781\n",
              "right_eye_inner_corner_y     4781\n",
              "right_eye_outer_corner_x     4781\n",
              "right_eye_outer_corner_y     4781\n",
              "left_eyebrow_inner_end_x     4779\n",
              "left_eyebrow_inner_end_y     4779\n",
              "left_eyebrow_outer_end_x     4824\n",
              "left_eyebrow_outer_end_y     4824\n",
              "right_eyebrow_inner_end_x    4779\n",
              "right_eyebrow_inner_end_y    4779\n",
              "right_eyebrow_outer_end_x    4813\n",
              "right_eyebrow_outer_end_y    4813\n",
              "nose_tip_x                      0\n",
              "nose_tip_y                      0\n",
              "mouth_left_corner_x          4780\n",
              "mouth_left_corner_y          4780\n",
              "mouth_right_corner_x         4779\n",
              "mouth_right_corner_y         4779\n",
              "mouth_center_top_lip_x       4774\n",
              "mouth_center_top_lip_y       4774\n",
              "mouth_center_bottom_lip_x      33\n",
              "mouth_center_bottom_lip_y      33\n",
              "Image                           0\n",
              "dtype: int64"
            ]
          },
          "metadata": {
            "tags": []
          },
          "execution_count": 3
        }
      ]
    },
    {
      "cell_type": "code",
      "metadata": {
        "id": "I76ydN_BIOZ1",
        "colab_type": "code",
        "outputId": "06b63616-cde6-46eb-995a-073a946f6bff",
        "colab": {
          "base_uri": "https://localhost:8080/",
          "height": 317
        }
      },
      "source": [
        "training = training.dropna()\n",
        "training.describe()"
      ],
      "execution_count": 4,
      "outputs": [
        {
          "output_type": "execute_result",
          "data": {
            "text/html": [
              "<div>\n",
              "<style scoped>\n",
              "    .dataframe tbody tr th:only-of-type {\n",
              "        vertical-align: middle;\n",
              "    }\n",
              "\n",
              "    .dataframe tbody tr th {\n",
              "        vertical-align: top;\n",
              "    }\n",
              "\n",
              "    .dataframe thead th {\n",
              "        text-align: right;\n",
              "    }\n",
              "</style>\n",
              "<table border=\"1\" class=\"dataframe\">\n",
              "  <thead>\n",
              "    <tr style=\"text-align: right;\">\n",
              "      <th></th>\n",
              "      <th>left_eye_center_x</th>\n",
              "      <th>left_eye_center_y</th>\n",
              "      <th>right_eye_center_x</th>\n",
              "      <th>right_eye_center_y</th>\n",
              "      <th>left_eye_inner_corner_x</th>\n",
              "      <th>left_eye_inner_corner_y</th>\n",
              "      <th>left_eye_outer_corner_x</th>\n",
              "      <th>left_eye_outer_corner_y</th>\n",
              "      <th>right_eye_inner_corner_x</th>\n",
              "      <th>right_eye_inner_corner_y</th>\n",
              "      <th>right_eye_outer_corner_x</th>\n",
              "      <th>right_eye_outer_corner_y</th>\n",
              "      <th>left_eyebrow_inner_end_x</th>\n",
              "      <th>left_eyebrow_inner_end_y</th>\n",
              "      <th>left_eyebrow_outer_end_x</th>\n",
              "      <th>left_eyebrow_outer_end_y</th>\n",
              "      <th>right_eyebrow_inner_end_x</th>\n",
              "      <th>right_eyebrow_inner_end_y</th>\n",
              "      <th>right_eyebrow_outer_end_x</th>\n",
              "      <th>right_eyebrow_outer_end_y</th>\n",
              "      <th>nose_tip_x</th>\n",
              "      <th>nose_tip_y</th>\n",
              "      <th>mouth_left_corner_x</th>\n",
              "      <th>mouth_left_corner_y</th>\n",
              "      <th>mouth_right_corner_x</th>\n",
              "      <th>mouth_right_corner_y</th>\n",
              "      <th>mouth_center_top_lip_x</th>\n",
              "      <th>mouth_center_top_lip_y</th>\n",
              "      <th>mouth_center_bottom_lip_x</th>\n",
              "      <th>mouth_center_bottom_lip_y</th>\n",
              "    </tr>\n",
              "  </thead>\n",
              "  <tbody>\n",
              "    <tr>\n",
              "      <th>count</th>\n",
              "      <td>2140.000000</td>\n",
              "      <td>2140.000000</td>\n",
              "      <td>2140.000000</td>\n",
              "      <td>2140.000000</td>\n",
              "      <td>2140.000000</td>\n",
              "      <td>2140.000000</td>\n",
              "      <td>2140.000000</td>\n",
              "      <td>2140.000000</td>\n",
              "      <td>2140.000000</td>\n",
              "      <td>2140.000000</td>\n",
              "      <td>2140.000000</td>\n",
              "      <td>2140.000000</td>\n",
              "      <td>2140.000000</td>\n",
              "      <td>2140.000000</td>\n",
              "      <td>2140.000000</td>\n",
              "      <td>2140.000000</td>\n",
              "      <td>2140.000000</td>\n",
              "      <td>2140.000000</td>\n",
              "      <td>2140.000000</td>\n",
              "      <td>2140.000000</td>\n",
              "      <td>2140.000000</td>\n",
              "      <td>2140.000000</td>\n",
              "      <td>2140.000000</td>\n",
              "      <td>2140.000000</td>\n",
              "      <td>2140.000000</td>\n",
              "      <td>2140.000000</td>\n",
              "      <td>2140.000000</td>\n",
              "      <td>2140.000000</td>\n",
              "      <td>2140.000000</td>\n",
              "      <td>2140.000000</td>\n",
              "    </tr>\n",
              "    <tr>\n",
              "      <th>mean</th>\n",
              "      <td>66.221549</td>\n",
              "      <td>36.842274</td>\n",
              "      <td>29.640269</td>\n",
              "      <td>37.063815</td>\n",
              "      <td>59.272128</td>\n",
              "      <td>37.856014</td>\n",
              "      <td>73.412473</td>\n",
              "      <td>37.640110</td>\n",
              "      <td>36.603107</td>\n",
              "      <td>37.920852</td>\n",
              "      <td>22.361617</td>\n",
              "      <td>38.034571</td>\n",
              "      <td>56.147991</td>\n",
              "      <td>29.222304</td>\n",
              "      <td>79.617523</td>\n",
              "      <td>29.656570</td>\n",
              "      <td>39.272084</td>\n",
              "      <td>29.413747</td>\n",
              "      <td>15.761707</td>\n",
              "      <td>30.452947</td>\n",
              "      <td>47.952141</td>\n",
              "      <td>57.253926</td>\n",
              "      <td>63.419076</td>\n",
              "      <td>75.887660</td>\n",
              "      <td>32.967365</td>\n",
              "      <td>76.134065</td>\n",
              "      <td>48.081325</td>\n",
              "      <td>72.681125</td>\n",
              "      <td>48.149654</td>\n",
              "      <td>82.630412</td>\n",
              "    </tr>\n",
              "    <tr>\n",
              "      <th>std</th>\n",
              "      <td>2.087683</td>\n",
              "      <td>2.294027</td>\n",
              "      <td>2.051575</td>\n",
              "      <td>2.234334</td>\n",
              "      <td>2.005631</td>\n",
              "      <td>2.034500</td>\n",
              "      <td>2.701639</td>\n",
              "      <td>2.684162</td>\n",
              "      <td>1.822784</td>\n",
              "      <td>2.009505</td>\n",
              "      <td>2.768804</td>\n",
              "      <td>2.654903</td>\n",
              "      <td>2.819914</td>\n",
              "      <td>2.867131</td>\n",
              "      <td>3.312647</td>\n",
              "      <td>3.627187</td>\n",
              "      <td>2.609648</td>\n",
              "      <td>2.842219</td>\n",
              "      <td>3.337901</td>\n",
              "      <td>3.644342</td>\n",
              "      <td>3.276053</td>\n",
              "      <td>4.528635</td>\n",
              "      <td>3.650131</td>\n",
              "      <td>4.438565</td>\n",
              "      <td>3.595103</td>\n",
              "      <td>4.259514</td>\n",
              "      <td>2.723274</td>\n",
              "      <td>5.108675</td>\n",
              "      <td>3.032389</td>\n",
              "      <td>4.813557</td>\n",
              "    </tr>\n",
              "    <tr>\n",
              "      <th>min</th>\n",
              "      <td>47.835757</td>\n",
              "      <td>23.832996</td>\n",
              "      <td>18.922611</td>\n",
              "      <td>24.773072</td>\n",
              "      <td>41.779381</td>\n",
              "      <td>27.190098</td>\n",
              "      <td>52.947144</td>\n",
              "      <td>26.250023</td>\n",
              "      <td>24.112624</td>\n",
              "      <td>26.250023</td>\n",
              "      <td>11.054589</td>\n",
              "      <td>26.521633</td>\n",
              "      <td>35.581733</td>\n",
              "      <td>15.859361</td>\n",
              "      <td>55.549929</td>\n",
              "      <td>10.522325</td>\n",
              "      <td>25.060327</td>\n",
              "      <td>16.476000</td>\n",
              "      <td>3.826243</td>\n",
              "      <td>13.224453</td>\n",
              "      <td>24.472590</td>\n",
              "      <td>41.558400</td>\n",
              "      <td>43.869480</td>\n",
              "      <td>57.023258</td>\n",
              "      <td>9.778137</td>\n",
              "      <td>56.690208</td>\n",
              "      <td>32.260312</td>\n",
              "      <td>56.719043</td>\n",
              "      <td>33.047605</td>\n",
              "      <td>57.232296</td>\n",
              "    </tr>\n",
              "    <tr>\n",
              "      <th>25%</th>\n",
              "      <td>65.046300</td>\n",
              "      <td>35.468842</td>\n",
              "      <td>28.472224</td>\n",
              "      <td>35.818377</td>\n",
              "      <td>58.113054</td>\n",
              "      <td>36.607950</td>\n",
              "      <td>71.741978</td>\n",
              "      <td>36.102409</td>\n",
              "      <td>35.495730</td>\n",
              "      <td>36.766783</td>\n",
              "      <td>20.631964</td>\n",
              "      <td>36.569765</td>\n",
              "      <td>54.562757</td>\n",
              "      <td>27.590944</td>\n",
              "      <td>77.732395</td>\n",
              "      <td>27.658656</td>\n",
              "      <td>37.555192</td>\n",
              "      <td>27.798773</td>\n",
              "      <td>13.540535</td>\n",
              "      <td>28.268263</td>\n",
              "      <td>46.495330</td>\n",
              "      <td>54.466000</td>\n",
              "      <td>61.341291</td>\n",
              "      <td>72.874263</td>\n",
              "      <td>30.879288</td>\n",
              "      <td>73.280038</td>\n",
              "      <td>46.580004</td>\n",
              "      <td>69.271669</td>\n",
              "      <td>46.492000</td>\n",
              "      <td>79.417480</td>\n",
              "    </tr>\n",
              "    <tr>\n",
              "      <th>50%</th>\n",
              "      <td>66.129065</td>\n",
              "      <td>36.913319</td>\n",
              "      <td>29.655440</td>\n",
              "      <td>37.048085</td>\n",
              "      <td>59.327154</td>\n",
              "      <td>37.845220</td>\n",
              "      <td>73.240045</td>\n",
              "      <td>37.624207</td>\n",
              "      <td>36.620735</td>\n",
              "      <td>37.920336</td>\n",
              "      <td>22.529600</td>\n",
              "      <td>37.876900</td>\n",
              "      <td>56.239984</td>\n",
              "      <td>29.468466</td>\n",
              "      <td>79.797607</td>\n",
              "      <td>29.753523</td>\n",
              "      <td>39.247681</td>\n",
              "      <td>29.528098</td>\n",
              "      <td>15.760876</td>\n",
              "      <td>30.333323</td>\n",
              "      <td>47.900511</td>\n",
              "      <td>57.638582</td>\n",
              "      <td>63.199057</td>\n",
              "      <td>75.682465</td>\n",
              "      <td>33.034022</td>\n",
              "      <td>75.941985</td>\n",
              "      <td>47.939031</td>\n",
              "      <td>72.395978</td>\n",
              "      <td>47.980854</td>\n",
              "      <td>82.388899</td>\n",
              "    </tr>\n",
              "    <tr>\n",
              "      <th>75%</th>\n",
              "      <td>67.332093</td>\n",
              "      <td>38.286438</td>\n",
              "      <td>30.858673</td>\n",
              "      <td>38.333884</td>\n",
              "      <td>60.521492</td>\n",
              "      <td>39.195431</td>\n",
              "      <td>74.978684</td>\n",
              "      <td>39.308331</td>\n",
              "      <td>37.665280</td>\n",
              "      <td>39.143921</td>\n",
              "      <td>24.202338</td>\n",
              "      <td>39.401034</td>\n",
              "      <td>57.926361</td>\n",
              "      <td>31.079433</td>\n",
              "      <td>81.559651</td>\n",
              "      <td>31.763791</td>\n",
              "      <td>40.824154</td>\n",
              "      <td>31.134740</td>\n",
              "      <td>17.871569</td>\n",
              "      <td>32.661300</td>\n",
              "      <td>49.260657</td>\n",
              "      <td>60.303524</td>\n",
              "      <td>65.302398</td>\n",
              "      <td>78.774969</td>\n",
              "      <td>35.063575</td>\n",
              "      <td>78.884031</td>\n",
              "      <td>49.290000</td>\n",
              "      <td>75.840286</td>\n",
              "      <td>49.551936</td>\n",
              "      <td>85.697976</td>\n",
              "    </tr>\n",
              "    <tr>\n",
              "      <th>max</th>\n",
              "      <td>78.013082</td>\n",
              "      <td>46.132421</td>\n",
              "      <td>42.495172</td>\n",
              "      <td>45.980981</td>\n",
              "      <td>69.023030</td>\n",
              "      <td>47.190316</td>\n",
              "      <td>87.032252</td>\n",
              "      <td>49.653825</td>\n",
              "      <td>47.293746</td>\n",
              "      <td>44.887301</td>\n",
              "      <td>40.050971</td>\n",
              "      <td>50.002113</td>\n",
              "      <td>67.752000</td>\n",
              "      <td>40.293408</td>\n",
              "      <td>94.269957</td>\n",
              "      <td>48.823425</td>\n",
              "      <td>51.300571</td>\n",
              "      <td>39.445859</td>\n",
              "      <td>39.676082</td>\n",
              "      <td>44.857962</td>\n",
              "      <td>65.279654</td>\n",
              "      <td>75.992731</td>\n",
              "      <td>84.767123</td>\n",
              "      <td>94.673637</td>\n",
              "      <td>50.973348</td>\n",
              "      <td>93.443176</td>\n",
              "      <td>61.804506</td>\n",
              "      <td>93.916338</td>\n",
              "      <td>62.438095</td>\n",
              "      <td>95.808983</td>\n",
              "    </tr>\n",
              "  </tbody>\n",
              "</table>\n",
              "</div>"
            ],
            "text/plain": [
              "       left_eye_center_x  ...  mouth_center_bottom_lip_y\n",
              "count        2140.000000  ...                2140.000000\n",
              "mean           66.221549  ...                  82.630412\n",
              "std             2.087683  ...                   4.813557\n",
              "min            47.835757  ...                  57.232296\n",
              "25%            65.046300  ...                  79.417480\n",
              "50%            66.129065  ...                  82.388899\n",
              "75%            67.332093  ...                  85.697976\n",
              "max            78.013082  ...                  95.808983\n",
              "\n",
              "[8 rows x 30 columns]"
            ]
          },
          "metadata": {
            "tags": []
          },
          "execution_count": 4
        }
      ]
    },
    {
      "cell_type": "code",
      "metadata": {
        "id": "TZvrgqJzIZta",
        "colab_type": "code",
        "outputId": "914ff27c-9a3f-4487-907c-29a92c30e3ef",
        "colab": {
          "base_uri": "https://localhost:8080/",
          "height": 34
        }
      },
      "source": [
        "training.shape"
      ],
      "execution_count": 5,
      "outputs": [
        {
          "output_type": "execute_result",
          "data": {
            "text/plain": [
              "(2140, 31)"
            ]
          },
          "metadata": {
            "tags": []
          },
          "execution_count": 5
        }
      ]
    },
    {
      "cell_type": "code",
      "metadata": {
        "id": "ZFUXHOZLRsm8",
        "colab_type": "code",
        "outputId": "8ca2c06b-0837-4c25-de68-b81188ff9f57",
        "colab": {
          "base_uri": "https://localhost:8080/",
          "height": 224
        }
      },
      "source": [
        "features_x = training.iloc[:,[i for i in range(0,len(training.columns)-1,2)]]\n",
        "features_x.head()"
      ],
      "execution_count": 6,
      "outputs": [
        {
          "output_type": "execute_result",
          "data": {
            "text/html": [
              "<div>\n",
              "<style scoped>\n",
              "    .dataframe tbody tr th:only-of-type {\n",
              "        vertical-align: middle;\n",
              "    }\n",
              "\n",
              "    .dataframe tbody tr th {\n",
              "        vertical-align: top;\n",
              "    }\n",
              "\n",
              "    .dataframe thead th {\n",
              "        text-align: right;\n",
              "    }\n",
              "</style>\n",
              "<table border=\"1\" class=\"dataframe\">\n",
              "  <thead>\n",
              "    <tr style=\"text-align: right;\">\n",
              "      <th></th>\n",
              "      <th>left_eye_center_x</th>\n",
              "      <th>right_eye_center_x</th>\n",
              "      <th>left_eye_inner_corner_x</th>\n",
              "      <th>left_eye_outer_corner_x</th>\n",
              "      <th>right_eye_inner_corner_x</th>\n",
              "      <th>right_eye_outer_corner_x</th>\n",
              "      <th>left_eyebrow_inner_end_x</th>\n",
              "      <th>left_eyebrow_outer_end_x</th>\n",
              "      <th>right_eyebrow_inner_end_x</th>\n",
              "      <th>right_eyebrow_outer_end_x</th>\n",
              "      <th>nose_tip_x</th>\n",
              "      <th>mouth_left_corner_x</th>\n",
              "      <th>mouth_right_corner_x</th>\n",
              "      <th>mouth_center_top_lip_x</th>\n",
              "      <th>mouth_center_bottom_lip_x</th>\n",
              "    </tr>\n",
              "  </thead>\n",
              "  <tbody>\n",
              "    <tr>\n",
              "      <th>0</th>\n",
              "      <td>66.033564</td>\n",
              "      <td>30.227008</td>\n",
              "      <td>59.582075</td>\n",
              "      <td>73.130346</td>\n",
              "      <td>36.356571</td>\n",
              "      <td>23.452872</td>\n",
              "      <td>56.953263</td>\n",
              "      <td>80.227128</td>\n",
              "      <td>40.227609</td>\n",
              "      <td>16.356379</td>\n",
              "      <td>44.420571</td>\n",
              "      <td>61.195308</td>\n",
              "      <td>28.614496</td>\n",
              "      <td>43.312602</td>\n",
              "      <td>43.130707</td>\n",
              "    </tr>\n",
              "    <tr>\n",
              "      <th>1</th>\n",
              "      <td>64.332936</td>\n",
              "      <td>29.949277</td>\n",
              "      <td>58.856170</td>\n",
              "      <td>70.722723</td>\n",
              "      <td>36.034723</td>\n",
              "      <td>24.472511</td>\n",
              "      <td>53.987404</td>\n",
              "      <td>78.634213</td>\n",
              "      <td>42.728851</td>\n",
              "      <td>16.865362</td>\n",
              "      <td>48.206298</td>\n",
              "      <td>56.421447</td>\n",
              "      <td>35.122383</td>\n",
              "      <td>46.684596</td>\n",
              "      <td>45.467915</td>\n",
              "    </tr>\n",
              "    <tr>\n",
              "      <th>2</th>\n",
              "      <td>65.057053</td>\n",
              "      <td>30.903789</td>\n",
              "      <td>59.412000</td>\n",
              "      <td>70.984421</td>\n",
              "      <td>37.678105</td>\n",
              "      <td>24.976421</td>\n",
              "      <td>55.742526</td>\n",
              "      <td>78.887368</td>\n",
              "      <td>42.193895</td>\n",
              "      <td>16.791158</td>\n",
              "      <td>47.557263</td>\n",
              "      <td>60.822947</td>\n",
              "      <td>33.726316</td>\n",
              "      <td>47.274947</td>\n",
              "      <td>47.274947</td>\n",
              "    </tr>\n",
              "    <tr>\n",
              "      <th>3</th>\n",
              "      <td>65.225739</td>\n",
              "      <td>32.023096</td>\n",
              "      <td>60.003339</td>\n",
              "      <td>72.314713</td>\n",
              "      <td>37.618643</td>\n",
              "      <td>25.307270</td>\n",
              "      <td>56.433809</td>\n",
              "      <td>77.910261</td>\n",
              "      <td>41.671513</td>\n",
              "      <td>20.458017</td>\n",
              "      <td>51.885078</td>\n",
              "      <td>65.598887</td>\n",
              "      <td>37.245496</td>\n",
              "      <td>50.303165</td>\n",
              "      <td>51.561183</td>\n",
              "    </tr>\n",
              "    <tr>\n",
              "      <th>4</th>\n",
              "      <td>66.725301</td>\n",
              "      <td>32.244810</td>\n",
              "      <td>58.565890</td>\n",
              "      <td>72.515926</td>\n",
              "      <td>36.982380</td>\n",
              "      <td>22.506110</td>\n",
              "      <td>57.249571</td>\n",
              "      <td>77.762945</td>\n",
              "      <td>38.035436</td>\n",
              "      <td>15.925870</td>\n",
              "      <td>43.299534</td>\n",
              "      <td>60.671411</td>\n",
              "      <td>31.191755</td>\n",
              "      <td>44.962748</td>\n",
              "      <td>44.227141</td>\n",
              "    </tr>\n",
              "  </tbody>\n",
              "</table>\n",
              "</div>"
            ],
            "text/plain": [
              "   left_eye_center_x  ...  mouth_center_bottom_lip_x\n",
              "0          66.033564  ...                  43.130707\n",
              "1          64.332936  ...                  45.467915\n",
              "2          65.057053  ...                  47.274947\n",
              "3          65.225739  ...                  51.561183\n",
              "4          66.725301  ...                  44.227141\n",
              "\n",
              "[5 rows x 15 columns]"
            ]
          },
          "metadata": {
            "tags": []
          },
          "execution_count": 6
        }
      ]
    },
    {
      "cell_type": "code",
      "metadata": {
        "id": "U0kflW3oRu7c",
        "colab_type": "code",
        "outputId": "3db583a2-f827-4346-e6ca-72e4c7e01045",
        "colab": {
          "base_uri": "https://localhost:8080/",
          "height": 224
        }
      },
      "source": [
        "features_y = training.iloc[:,[i for i in range(1,len(training.columns)-1,2)]]\n",
        "features_y.head()"
      ],
      "execution_count": 7,
      "outputs": [
        {
          "output_type": "execute_result",
          "data": {
            "text/html": [
              "<div>\n",
              "<style scoped>\n",
              "    .dataframe tbody tr th:only-of-type {\n",
              "        vertical-align: middle;\n",
              "    }\n",
              "\n",
              "    .dataframe tbody tr th {\n",
              "        vertical-align: top;\n",
              "    }\n",
              "\n",
              "    .dataframe thead th {\n",
              "        text-align: right;\n",
              "    }\n",
              "</style>\n",
              "<table border=\"1\" class=\"dataframe\">\n",
              "  <thead>\n",
              "    <tr style=\"text-align: right;\">\n",
              "      <th></th>\n",
              "      <th>left_eye_center_y</th>\n",
              "      <th>right_eye_center_y</th>\n",
              "      <th>left_eye_inner_corner_y</th>\n",
              "      <th>left_eye_outer_corner_y</th>\n",
              "      <th>right_eye_inner_corner_y</th>\n",
              "      <th>right_eye_outer_corner_y</th>\n",
              "      <th>left_eyebrow_inner_end_y</th>\n",
              "      <th>left_eyebrow_outer_end_y</th>\n",
              "      <th>right_eyebrow_inner_end_y</th>\n",
              "      <th>right_eyebrow_outer_end_y</th>\n",
              "      <th>nose_tip_y</th>\n",
              "      <th>mouth_left_corner_y</th>\n",
              "      <th>mouth_right_corner_y</th>\n",
              "      <th>mouth_center_top_lip_y</th>\n",
              "      <th>mouth_center_bottom_lip_y</th>\n",
              "    </tr>\n",
              "  </thead>\n",
              "  <tbody>\n",
              "    <tr>\n",
              "      <th>0</th>\n",
              "      <td>39.002274</td>\n",
              "      <td>36.421678</td>\n",
              "      <td>39.647423</td>\n",
              "      <td>39.969997</td>\n",
              "      <td>37.389402</td>\n",
              "      <td>37.389402</td>\n",
              "      <td>29.033648</td>\n",
              "      <td>32.228138</td>\n",
              "      <td>29.002322</td>\n",
              "      <td>29.647471</td>\n",
              "      <td>57.066803</td>\n",
              "      <td>79.970165</td>\n",
              "      <td>77.388992</td>\n",
              "      <td>72.935459</td>\n",
              "      <td>84.485774</td>\n",
              "    </tr>\n",
              "    <tr>\n",
              "      <th>1</th>\n",
              "      <td>34.970077</td>\n",
              "      <td>33.448715</td>\n",
              "      <td>35.274349</td>\n",
              "      <td>36.187166</td>\n",
              "      <td>34.361532</td>\n",
              "      <td>33.144443</td>\n",
              "      <td>28.275949</td>\n",
              "      <td>30.405923</td>\n",
              "      <td>26.146043</td>\n",
              "      <td>27.058860</td>\n",
              "      <td>55.660936</td>\n",
              "      <td>76.352000</td>\n",
              "      <td>76.047660</td>\n",
              "      <td>70.266553</td>\n",
              "      <td>85.480170</td>\n",
              "    </tr>\n",
              "    <tr>\n",
              "      <th>2</th>\n",
              "      <td>34.909642</td>\n",
              "      <td>34.909642</td>\n",
              "      <td>36.320968</td>\n",
              "      <td>36.320968</td>\n",
              "      <td>36.320968</td>\n",
              "      <td>36.603221</td>\n",
              "      <td>27.570947</td>\n",
              "      <td>32.651621</td>\n",
              "      <td>28.135453</td>\n",
              "      <td>32.087116</td>\n",
              "      <td>53.538947</td>\n",
              "      <td>73.014316</td>\n",
              "      <td>72.732000</td>\n",
              "      <td>70.191789</td>\n",
              "      <td>78.659368</td>\n",
              "    </tr>\n",
              "    <tr>\n",
              "      <th>3</th>\n",
              "      <td>37.261774</td>\n",
              "      <td>37.261774</td>\n",
              "      <td>39.127179</td>\n",
              "      <td>38.380967</td>\n",
              "      <td>38.754115</td>\n",
              "      <td>38.007903</td>\n",
              "      <td>30.929864</td>\n",
              "      <td>31.665725</td>\n",
              "      <td>31.049990</td>\n",
              "      <td>29.909343</td>\n",
              "      <td>54.166539</td>\n",
              "      <td>72.703722</td>\n",
              "      <td>74.195478</td>\n",
              "      <td>70.091687</td>\n",
              "      <td>78.268383</td>\n",
              "    </tr>\n",
              "    <tr>\n",
              "      <th>4</th>\n",
              "      <td>39.621261</td>\n",
              "      <td>38.042032</td>\n",
              "      <td>39.621261</td>\n",
              "      <td>39.884466</td>\n",
              "      <td>39.094852</td>\n",
              "      <td>38.305237</td>\n",
              "      <td>30.672177</td>\n",
              "      <td>31.737247</td>\n",
              "      <td>30.935382</td>\n",
              "      <td>30.672177</td>\n",
              "      <td>64.889521</td>\n",
              "      <td>77.523239</td>\n",
              "      <td>76.997301</td>\n",
              "      <td>73.707387</td>\n",
              "      <td>86.871166</td>\n",
              "    </tr>\n",
              "  </tbody>\n",
              "</table>\n",
              "</div>"
            ],
            "text/plain": [
              "   left_eye_center_y  ...  mouth_center_bottom_lip_y\n",
              "0          39.002274  ...                  84.485774\n",
              "1          34.970077  ...                  85.480170\n",
              "2          34.909642  ...                  78.659368\n",
              "3          37.261774  ...                  78.268383\n",
              "4          39.621261  ...                  86.871166\n",
              "\n",
              "[5 rows x 15 columns]"
            ]
          },
          "metadata": {
            "tags": []
          },
          "execution_count": 7
        }
      ]
    },
    {
      "cell_type": "code",
      "metadata": {
        "id": "hFL5UViJRxFi",
        "colab_type": "code",
        "colab": {}
      },
      "source": [
        "images = training.iloc[:,-1].values\n",
        "images = np.array([int(j) for i in images for j in i.split(' ')])\n",
        "images = images/255.0"
      ],
      "execution_count": 0,
      "outputs": []
    },
    {
      "cell_type": "code",
      "metadata": {
        "id": "bDaXlCdlRy5c",
        "colab_type": "code",
        "outputId": "cb0172a3-41f4-4a65-839c-859bce1a0ee2",
        "colab": {
          "base_uri": "https://localhost:8080/",
          "height": 34
        }
      },
      "source": [
        "training.shape"
      ],
      "execution_count": 9,
      "outputs": [
        {
          "output_type": "execute_result",
          "data": {
            "text/plain": [
              "(2140, 31)"
            ]
          },
          "metadata": {
            "tags": []
          },
          "execution_count": 9
        }
      ]
    },
    {
      "cell_type": "code",
      "metadata": {
        "id": "Y6k2o4ZU_qom",
        "colab_type": "code",
        "outputId": "8f01608c-7642-4b0f-8a97-0598e638de17",
        "colab": {
          "base_uri": "https://localhost:8080/",
          "height": 544
        }
      },
      "source": [
        "training.iloc[:,:-1].min()"
      ],
      "execution_count": 10,
      "outputs": [
        {
          "output_type": "execute_result",
          "data": {
            "text/plain": [
              "left_eye_center_x            47.835757\n",
              "left_eye_center_y            23.832996\n",
              "right_eye_center_x           18.922611\n",
              "right_eye_center_y           24.773072\n",
              "left_eye_inner_corner_x      41.779381\n",
              "left_eye_inner_corner_y      27.190098\n",
              "left_eye_outer_corner_x      52.947144\n",
              "left_eye_outer_corner_y      26.250023\n",
              "right_eye_inner_corner_x     24.112624\n",
              "right_eye_inner_corner_y     26.250023\n",
              "right_eye_outer_corner_x     11.054589\n",
              "right_eye_outer_corner_y     26.521633\n",
              "left_eyebrow_inner_end_x     35.581733\n",
              "left_eyebrow_inner_end_y     15.859361\n",
              "left_eyebrow_outer_end_x     55.549929\n",
              "left_eyebrow_outer_end_y     10.522325\n",
              "right_eyebrow_inner_end_x    25.060327\n",
              "right_eyebrow_inner_end_y    16.476000\n",
              "right_eyebrow_outer_end_x     3.826243\n",
              "right_eyebrow_outer_end_y    13.224453\n",
              "nose_tip_x                   24.472590\n",
              "nose_tip_y                   41.558400\n",
              "mouth_left_corner_x          43.869480\n",
              "mouth_left_corner_y          57.023258\n",
              "mouth_right_corner_x          9.778137\n",
              "mouth_right_corner_y         56.690208\n",
              "mouth_center_top_lip_x       32.260312\n",
              "mouth_center_top_lip_y       56.719043\n",
              "mouth_center_bottom_lip_x    33.047605\n",
              "mouth_center_bottom_lip_y    57.232296\n",
              "dtype: float64"
            ]
          },
          "metadata": {
            "tags": []
          },
          "execution_count": 10
        }
      ]
    },
    {
      "cell_type": "code",
      "metadata": {
        "id": "ciD2HYdQoQjy",
        "colab_type": "code",
        "outputId": "e9248cb0-d99e-4995-ab8b-58e882e62176",
        "colab": {
          "base_uri": "https://localhost:8080/",
          "height": 34
        }
      },
      "source": [
        "images = images.reshape(-1,96,96)\n",
        "images.shape"
      ],
      "execution_count": 11,
      "outputs": [
        {
          "output_type": "execute_result",
          "data": {
            "text/plain": [
              "(2140, 96, 96)"
            ]
          },
          "metadata": {
            "tags": []
          },
          "execution_count": 11
        }
      ]
    },
    {
      "cell_type": "code",
      "metadata": {
        "id": "APYb8lTtoY46",
        "colab_type": "code",
        "outputId": "9e8ae0a5-fc0a-4d5f-9bf4-e38cd8c9d36d",
        "colab": {
          "base_uri": "https://localhost:8080/",
          "height": 268
        }
      },
      "source": [
        "plt.imshow(images[10],cmap = \"gray\")\n",
        "plt.scatter(features_x.iloc[10,:],features_y.iloc[10,:])\n",
        "plt.title(\"Original Image\")\n",
        "plt.xticks([])\n",
        "plt.yticks([])\n",
        "plt.show()"
      ],
      "execution_count": 12,
      "outputs": [
        {
          "output_type": "display_data",
          "data": {
            "image/png": "[encoded data removed]",
            "text/plain": [
              "<Figure size 432x288 with 1 Axes>"
            ]
          },
          "metadata": {
            "tags": []
          }
        }
      ]
    },
    {
      "cell_type": "code",
      "metadata": {
        "id": "Iqyi1u2ToeQ-",
        "colab_type": "code",
        "colab": {}
      },
      "source": [
        "def blur(images):\n",
        "  images_blur = []\n",
        "  for image in images:\n",
        "    image = cv2.blur(image,(4,4))\n",
        "    images_blur.append(image)\n",
        "  return np.array(images_blur)"
      ],
      "execution_count": 0,
      "outputs": []
    },
    {
      "cell_type": "code",
      "metadata": {
        "id": "whJlIzUOogPY",
        "colab_type": "code",
        "outputId": "5ede49e5-0c08-4ff7-e7ce-47d6f77a5e7a",
        "colab": {
          "base_uri": "https://localhost:8080/",
          "height": 268
        }
      },
      "source": [
        "images =  blur(images)\n",
        "plt.imshow(images[10],cmap='gray')\n",
        "plt.scatter(features_x.iloc[10,:],features_y.iloc[10,:],color='red',marker='*')\n",
        "plt.title(\"Blurred Image\")\n",
        "plt.xticks([])\n",
        "plt.yticks([])\n",
        "plt.show()"
      ],
      "execution_count": 14,
      "outputs": [
        {
          "output_type": "display_data",
          "data": {
            "image/png": "[encoded data removed]",
            "text/plain": [
              "<Figure size 432x288 with 1 Axes>"
            ]
          },
          "metadata": {
            "tags": []
          }
        }
      ]
    },
    {
      "cell_type": "code",
      "metadata": {
        "id": "6S_vLaf3ojzk",
        "colab_type": "code",
        "colab": {
          "base_uri": "https://localhost:8080/",
          "height": 34
        },
        "outputId": "275f3170-aacc-4f5c-f247-946acafa167f"
      },
      "source": [
        "y = np.array(training.iloc[:,:-1].values)\n",
        "y = (y - 48)/48\n",
        "y.shape"
      ],
      "execution_count": 15,
      "outputs": [
        {
          "output_type": "execute_result",
          "data": {
            "text/plain": [
              "(2140, 30)"
            ]
          },
          "metadata": {
            "tags": []
          },
          "execution_count": 15
        }
      ]
    },
    {
      "cell_type": "code",
      "metadata": {
        "id": "eWMrVUXYon-a",
        "colab_type": "code",
        "outputId": "b524a9db-1d89-4adf-ea71-7550230e5499",
        "colab": {
          "base_uri": "https://localhost:8080/",
          "height": 34
        }
      },
      "source": [
        "images = images.reshape(-1, 96,96,1)\n",
        "images.shape"
      ],
      "execution_count": 16,
      "outputs": [
        {
          "output_type": "execute_result",
          "data": {
            "text/plain": [
              "(2140, 96, 96, 1)"
            ]
          },
          "metadata": {
            "tags": []
          },
          "execution_count": 16
        }
      ]
    },
    {
      "cell_type": "code",
      "metadata": {
        "id": "xom0dbgzCBt6",
        "colab_type": "code",
        "outputId": "b864d015-b5f7-4afc-d2c6-0a89628dd59f",
        "colab": {
          "base_uri": "https://localhost:8080/",
          "height": 1000
        }
      },
      "source": [
        "import tensorflow as tf\n",
        "from tensorflow.keras.layers import Conv2D,MaxPooling2D,Dense,Dropout,Flatten\n",
        "from tensorflow.keras.models import Sequential\n",
        "\n",
        "with tf.device('/device:GPU:0'):\n",
        "  model = Sequential()\n",
        "  model.add(Conv2D(filters=16, kernel_size=3, activation='relu', input_shape=(96, 96, 1),padding=\"same\"))\n",
        "  model.add(MaxPooling2D(pool_size=2))\n",
        "\n",
        "  model.add(Conv2D(filters=32, kernel_size=3, activation='relu',padding=\"same\"))\n",
        "  model.add(MaxPooling2D(pool_size=2))\n",
        "\n",
        "  model.add(Conv2D(filters=64, kernel_size=3, activation='relu',padding=\"same\"))\n",
        "  model.add(MaxPooling2D(pool_size=2))\n",
        "\n",
        "  model.add(Conv2D(filters=128, kernel_size=3, activation='relu',padding=\"same\"))\n",
        "  model.add(MaxPooling2D(pool_size=2))\n",
        "\n",
        "  model.add(Conv2D(filters=256, kernel_size=3, activation='relu',padding=\"same\"))\n",
        "  model.add(MaxPooling2D(pool_size=2))\n",
        "\n",
        "  model.add(Flatten())\n",
        "  model.add(Dense(512, activation='relu'))\n",
        "  model.add(Dropout(0.2))\n",
        "  model.add(Dense(512, activation='relu'))\n",
        "  model.add(Dense(30))\n",
        "  model.compile(loss='mean_squared_error', optimizer='Adam', metrics=['accuracy'])\n",
        "  mod_fit = model.fit(images,y,epochs=60,batch_size=40)"
      ],
      "execution_count": 17,
      "outputs": [
        {
          "output_type": "display_data",
          "data": {
            "text/html": [
              "<p style=\"color: red;\">\n",
              "The default version of TensorFlow in Colab will switch to TensorFlow 2.x on the 27th of March, 2020.<br>\n",
              "We recommend you <a href=\"https://www.tensorflow.org/guide/migrate\" target=\"_blank\">upgrade</a> now\n",
              "or ensure your notebook will continue to use TensorFlow 1.x via the <code>%tensorflow_version 1.x</code> magic:\n",
              "<a href=\"https://colab.research.google.com/notebooks/tensorflow_version.ipynb\" target=\"_blank\">more info</a>.</p>\n"
            ],
            "text/plain": [
              "<IPython.core.display.HTML object>"
            ]
          },
          "metadata": {
            "tags": []
          }
        },
        {
          "output_type": "stream",
          "text": [
            "WARNING:tensorflow:From /usr/local/lib/python3.6/dist-packages/tensorflow_core/python/ops/resource_variable_ops.py:1630: calling BaseResourceVariable.__init__ (from tensorflow.python.ops.resource_variable_ops) with constraint is deprecated and will be removed in a future version.\n",
            "Instructions for updating:\n",
            "If using Keras pass *_constraint arguments to layers.\n",
            "Train on 2140 samples\n",
            "Epoch 1/60\n",
            "2140/2140 [==============================] - 2s 1ms/sample - loss: 0.0171 - acc: 0.6093\n",
            "Epoch 2/60\n",
            "2140/2140 [==============================] - 1s 239us/sample - loss: 0.0051 - acc: 0.7047\n",
            "Epoch 3/60\n",
            "2140/2140 [==============================] - 1s 235us/sample - loss: 0.0048 - acc: 0.7028\n",
            "Epoch 4/60\n",
            "2140/2140 [==============================] - 1s 246us/sample - loss: 0.0046 - acc: 0.7051\n",
            "Epoch 5/60\n",
            "2140/2140 [==============================] - 1s 245us/sample - loss: 0.0045 - acc: 0.7047\n",
            "Epoch 6/60\n",
            "2140/2140 [==============================] - 0s 228us/sample - loss: 0.0043 - acc: 0.7051\n",
            "Epoch 7/60\n",
            "2140/2140 [==============================] - 1s 253us/sample - loss: 0.0041 - acc: 0.7051\n",
            "Epoch 8/60\n",
            "2140/2140 [==============================] - 1s 253us/sample - loss: 0.0038 - acc: 0.7075\n",
            "Epoch 9/60\n",
            "2140/2140 [==============================] - 1s 252us/sample - loss: 0.0034 - acc: 0.7079\n",
            "Epoch 10/60\n",
            "2140/2140 [==============================] - 1s 247us/sample - loss: 0.0029 - acc: 0.7131\n",
            "Epoch 11/60\n",
            "2140/2140 [==============================] - 1s 241us/sample - loss: 0.0025 - acc: 0.7248\n",
            "Epoch 12/60\n",
            "2140/2140 [==============================] - 1s 240us/sample - loss: 0.0021 - acc: 0.7276\n",
            "Epoch 13/60\n",
            "2140/2140 [==============================] - 1s 247us/sample - loss: 0.0019 - acc: 0.7425\n",
            "Epoch 14/60\n",
            "2140/2140 [==============================] - 1s 239us/sample - loss: 0.0017 - acc: 0.7407\n",
            "Epoch 15/60\n",
            "2140/2140 [==============================] - 1s 243us/sample - loss: 0.0015 - acc: 0.7570\n",
            "Epoch 16/60\n",
            "2140/2140 [==============================] - 1s 242us/sample - loss: 0.0013 - acc: 0.7720\n",
            "Epoch 17/60\n",
            "2140/2140 [==============================] - 1s 260us/sample - loss: 0.0012 - acc: 0.7626\n",
            "Epoch 18/60\n",
            "2140/2140 [==============================] - 1s 239us/sample - loss: 0.0011 - acc: 0.7724\n",
            "Epoch 19/60\n",
            "2140/2140 [==============================] - 1s 258us/sample - loss: 0.0010 - acc: 0.7808\n",
            "Epoch 20/60\n",
            "2140/2140 [==============================] - 0s 232us/sample - loss: 9.5825e-04 - acc: 0.7864\n",
            "Epoch 21/60\n",
            "2140/2140 [==============================] - 1s 242us/sample - loss: 8.7907e-04 - acc: 0.7935\n",
            "Epoch 22/60\n",
            "2140/2140 [==============================] - 1s 248us/sample - loss: 8.2922e-04 - acc: 0.8112\n",
            "Epoch 23/60\n",
            "2140/2140 [==============================] - 1s 248us/sample - loss: 7.8552e-04 - acc: 0.8065\n",
            "Epoch 24/60\n",
            "2140/2140 [==============================] - 1s 244us/sample - loss: 7.3234e-04 - acc: 0.8103\n",
            "Epoch 25/60\n",
            "2140/2140 [==============================] - 1s 259us/sample - loss: 7.0132e-04 - acc: 0.8192\n",
            "Epoch 26/60\n",
            "2140/2140 [==============================] - 1s 264us/sample - loss: 6.5647e-04 - acc: 0.8294\n",
            "Epoch 27/60\n",
            "2140/2140 [==============================] - 1s 268us/sample - loss: 6.3879e-04 - acc: 0.8266\n",
            "Epoch 28/60\n",
            "2140/2140 [==============================] - 1s 263us/sample - loss: 6.2721e-04 - acc: 0.8453\n",
            "Epoch 29/60\n",
            "2140/2140 [==============================] - 0s 231us/sample - loss: 6.0669e-04 - acc: 0.8364\n",
            "Epoch 30/60\n",
            "2140/2140 [==============================] - 1s 234us/sample - loss: 5.7940e-04 - acc: 0.8430\n",
            "Epoch 31/60\n",
            "2140/2140 [==============================] - 1s 235us/sample - loss: 5.6267e-04 - acc: 0.8542\n",
            "Epoch 32/60\n",
            "2140/2140 [==============================] - 1s 258us/sample - loss: 5.5793e-04 - acc: 0.8416\n",
            "Epoch 33/60\n",
            "2140/2140 [==============================] - 1s 250us/sample - loss: 5.3020e-04 - acc: 0.8430\n",
            "Epoch 34/60\n",
            "2140/2140 [==============================] - 1s 256us/sample - loss: 5.1084e-04 - acc: 0.8528\n",
            "Epoch 35/60\n",
            "2140/2140 [==============================] - 1s 245us/sample - loss: 4.9712e-04 - acc: 0.8514\n",
            "Epoch 36/60\n",
            "2140/2140 [==============================] - 1s 236us/sample - loss: 4.9905e-04 - acc: 0.8565\n",
            "Epoch 37/60\n",
            "2140/2140 [==============================] - 1s 249us/sample - loss: 5.0062e-04 - acc: 0.8547\n",
            "Epoch 38/60\n",
            "2140/2140 [==============================] - 1s 253us/sample - loss: 4.7528e-04 - acc: 0.8593\n",
            "Epoch 39/60\n",
            "2140/2140 [==============================] - 1s 251us/sample - loss: 4.7385e-04 - acc: 0.8593\n",
            "Epoch 40/60\n",
            "2140/2140 [==============================] - 1s 244us/sample - loss: 4.5036e-04 - acc: 0.8654\n",
            "Epoch 41/60\n",
            "2140/2140 [==============================] - 1s 251us/sample - loss: 4.4154e-04 - acc: 0.8645\n",
            "Epoch 42/60\n",
            "2140/2140 [==============================] - 1s 240us/sample - loss: 4.4470e-04 - acc: 0.8687\n",
            "Epoch 43/60\n",
            "2140/2140 [==============================] - 1s 237us/sample - loss: 4.3432e-04 - acc: 0.8561\n",
            "Epoch 44/60\n",
            "2140/2140 [==============================] - 1s 241us/sample - loss: 4.2030e-04 - acc: 0.8631\n",
            "Epoch 45/60\n",
            "2140/2140 [==============================] - 1s 236us/sample - loss: 4.2110e-04 - acc: 0.8621\n",
            "Epoch 46/60\n",
            "2140/2140 [==============================] - 1s 266us/sample - loss: 3.9698e-04 - acc: 0.8836\n",
            "Epoch 47/60\n",
            "2140/2140 [==============================] - 1s 259us/sample - loss: 4.0271e-04 - acc: 0.8743\n",
            "Epoch 48/60\n",
            "2140/2140 [==============================] - 1s 246us/sample - loss: 4.0423e-04 - acc: 0.8682\n",
            "Epoch 49/60\n",
            "2140/2140 [==============================] - 1s 241us/sample - loss: 3.9234e-04 - acc: 0.8771\n",
            "Epoch 50/60\n",
            "2140/2140 [==============================] - 0s 231us/sample - loss: 3.7976e-04 - acc: 0.8701\n",
            "Epoch 51/60\n",
            "2140/2140 [==============================] - 1s 241us/sample - loss: 3.7873e-04 - acc: 0.8794\n",
            "Epoch 52/60\n",
            "2140/2140 [==============================] - 1s 248us/sample - loss: 3.8661e-04 - acc: 0.8692\n",
            "Epoch 53/60\n",
            "2140/2140 [==============================] - 1s 236us/sample - loss: 3.7494e-04 - acc: 0.8706\n",
            "Epoch 54/60\n",
            "2140/2140 [==============================] - 0s 233us/sample - loss: 3.7779e-04 - acc: 0.8757\n",
            "Epoch 55/60\n",
            "2140/2140 [==============================] - 1s 238us/sample - loss: 3.6378e-04 - acc: 0.8799\n",
            "Epoch 56/60\n",
            "2140/2140 [==============================] - 1s 245us/sample - loss: 3.5890e-04 - acc: 0.8785\n",
            "Epoch 57/60\n",
            "2140/2140 [==============================] - 1s 249us/sample - loss: 3.4924e-04 - acc: 0.8808\n",
            "Epoch 58/60\n",
            "2140/2140 [==============================] - 1s 253us/sample - loss: 3.5679e-04 - acc: 0.8846\n",
            "Epoch 59/60\n",
            "2140/2140 [==============================] - 1s 248us/sample - loss: 3.5534e-04 - acc: 0.8785\n",
            "Epoch 60/60\n",
            "2140/2140 [==============================] - 1s 234us/sample - loss: 3.4395e-04 - acc: 0.8804\n"
          ],
          "name": "stdout"
        }
      ]
    },
    {
      "cell_type": "code",
      "metadata": {
        "id": "qfPrGmlMNnHS",
        "colab_type": "code",
        "colab": {}
      },
      "source": [
        "model.save(\"facial.h5\")"
      ],
      "execution_count": 0,
      "outputs": []
    },
    {
      "cell_type": "code",
      "metadata": {
        "id": "XiqgJKuXo7yv",
        "colab_type": "code",
        "colab": {}
      },
      "source": [
        "def plot_predicted_and_original(id):\n",
        "  image = images.reshape(-1,96,96)[id]\n",
        "  image = image.reshape(-1,96,96,1)\n",
        "  predicted = model.predict(image)\n",
        "  image = image.reshape(96,96)\n",
        "  #predicted = scaleY.inverse_transform(predicted)\n",
        "  predicted = (predicted*48)+48\n",
        "  x2 = predicted[:,[i for i in range(0,30,2)]]\n",
        "  y2 = predicted[:,[i for i in range(1,30,2)]]\n",
        "  plt.subplot(121)\n",
        "  plt.imshow(image,cmap=\"gray\")\n",
        "  plt.scatter(x2,y2)\n",
        "  plt.title(\"Predicted\")\n",
        "  plt.subplot(122)\n",
        "  plt.imshow(image,cmap=\"gray\")\n",
        "  plt.scatter(features_x.iloc[id,:],features_y.iloc[id,:])\n",
        "  plt.title(\"Original\")\n",
        "  plt.show()"
      ],
      "execution_count": 0,
      "outputs": []
    },
    {
      "cell_type": "code",
      "metadata": {
        "id": "YdwGvlrgLfn4",
        "colab_type": "code",
        "colab": {
          "base_uri": "https://localhost:8080/",
          "height": 216
        },
        "outputId": "d858d2b4-2a05-4804-9740-67fa2cd3bb06"
      },
      "source": [
        "plot_predicted_and_original(10)"
      ],
      "execution_count": 20,
      "outputs": [
        {
          "output_type": "display_data",
          "data": {
            "image/png": "[encoded data removed]",
            "text/plain": [
              "<Figure size 432x288 with 2 Axes>"
            ]
          },
          "metadata": {
            "tags": []
          }
        }
      ]
    }
  ]
}